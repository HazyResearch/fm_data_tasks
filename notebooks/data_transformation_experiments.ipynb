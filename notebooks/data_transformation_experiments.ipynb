{
 "cells": [
  {
   "cell_type": "code",
   "execution_count": 3,
   "id": "65e4a331-6273-4db9-86e6-67419334e2dc",
   "metadata": {},
   "outputs": [],
   "source": [
    "import os\n",
    "import json\n",
    "import openai\n",
    "import random\n",
    "import pandas as pd\n",
    "import numpy as np\n",
    "from manifest import Manifest\n",
    "from sklearn.metrics import f1_score\n",
    "from collections import defaultdict\n",
    "from datasets import load_dataset"
   ]
  },
  {
   "cell_type": "markdown",
   "id": "6ea08838",
   "metadata": {},
   "source": [
    "## Set-up Manifest"
   ]
  },
  {
   "cell_type": "code",
   "execution_count": 4,
   "id": "2f608dfd-4070-4467-9ee2-9994ef389995",
   "metadata": {},
   "outputs": [],
   "source": [
    "manifest_openai = Manifest(\n",
    "        client_name=\"openai\",\n",
    "        cache_name=\"sqlite\", \n",
    "        client_connection=\"text-davinci-002\",\n",
    "        cache_connection=\"./decomposition_manifest.log\",\n",
    "        stop_token=\"---\",\n",
    "        temperature=0.0,\n",
    "        max_tokens=3,\n",
    "        top_p=1.0,\n",
    "        n=1,\n",
    "    )"
   ]
  },
  {
   "cell_type": "code",
   "execution_count": null,
   "id": "42ed8815-1989-48ea-9cd5-92a5a5e5f43d",
   "metadata": {},
   "outputs": [],
   "source": [
    "# include path to\n",
    "DATASET_FOLDER = os.environ['DATASET_PATH']\n",
    "DATA_PATH = os.path.join(DATASET_FOLDER, \"data_transformation\")"
   ]
  },
  {
   "cell_type": "markdown",
   "id": "71b6092d",
   "metadata": {},
   "source": [
    "## Evaluate"
   ]
  },
  {
   "cell_type": "markdown",
   "id": "d7d8448c-f231-4b66-9864-4c6cbec8e261",
   "metadata": {},
   "source": [
    "### Dataset: benchmark-stackoverflow"
   ]
  },
  {
   "cell_type": "code",
   "execution_count": 13,
   "id": "92d3060c-0228-4350-ba2d-7a404a21a2d7",
   "metadata": {},
   "outputs": [
    {
     "name": "stdout",
     "output_type": "stream",
     "text": [
      "Accuracy on benchmark-stackoverflow: 0.6530612244897959\n"
     ]
    }
   ],
   "source": [
    "accuracy = []\n",
    "transform_split = \"benchmark-stackoverflow\"\n",
    "base_dir = f\"{DATA_PATH}{transform_split}\"\n",
    "for x in os.listdir(base_dir):\n",
    "    task = x.split(\".txt\")[0]\n",
    "    file = open(os.path.join(base_dir, x), 'r')\n",
    "    lines = file.readlines()\n",
    "    instruction = lines[0].split(\"//\")[-1].strip(\"\\n\")\n",
    "    instruction = f\"{instruction}.\"\n",
    "    if \"txt\" in x.split(\".\")[-1]: \n",
    "        file = pd.read_csv(os.path.join(base_dir, x), sep=\"\\t\\t\",  encoding='cp1252', \n",
    "                           names=[\"input\", \"output\"], index_col = False, skiprows=1, engine='python')   \n",
    "        icl = \"\"\n",
    "        for x, row in file[0:3].iterrows():\n",
    "            icl += f\"input: {row.input}\\noutput: {row.output}\\n\\n\"\n",
    "        sub_acc = []\n",
    "        for x, row in file[3:].iterrows():\n",
    "            input = f\"{instruction}\\n\\n{icl}input: {row.input}\\noutput:\"\n",
    "            gpt_out = manifest_openai.run(input, max_tokens=30, stop_token=\"\\n\", temperature=0.0)\n",
    "            row_out = str(row.output).lower().strip()\n",
    "            gpt_out = str(gpt_out).lower().strip()\n",
    "            if row_out == gpt_out: sub_acc.append(1)\n",
    "            else: sub_acc.append(0)\n",
    "        if len(sub_acc) == sum(sub_acc): \n",
    "            # count as correct only if model gets all samples per transformation correct\n",
    "            accuracy.append(1)\n",
    "        else: \n",
    "            accuracy.append(0)\n",
    "\n",
    "\n",
    "print(f\"Accuracy on benchmark-stackoverflow: {sum(accuracy) / len(accuracy)}\")"
   ]
  },
  {
   "cell_type": "markdown",
   "id": "21df25fb",
   "metadata": {},
   "source": [
    "### Dataset: benchmark-BinqQuery (semantic)"
   ]
  },
  {
   "cell_type": "code",
   "execution_count": 18,
   "id": "46bba969-69d6-4c0d-8ff4-101da85de7f2",
   "metadata": {},
   "outputs": [
    {
     "name": "stdout",
     "output_type": "stream",
     "text": [
      "Accuracy on benchmark-bing-query-logs: 0.54\n"
     ]
    }
   ],
   "source": [
    "accuracy = []\n",
    "transform_split = \"benchmark-bing-query-logs\"\n",
    "base_dir = f\"{DATA_PATH}{transform_split}\"\n",
    "for x in os.listdir(base_dir):\n",
    "    task = x.split(\".txt\")[0]\n",
    "    file1 = open(os.path.join(base_dir, x), 'r')\n",
    "    lines = file1.readlines()\n",
    "    instruction = lines[0].strip(\"\\n\")\n",
    "    if \"txt\" in x.split(\".\")[-1] and \"semantic\" in x: \n",
    "        file = pd.read_csv(os.path.join(base_dir, x), sep=\"\\t\\t\",  encoding='cp1252', \n",
    "                           names=[\"input\", \"output\"], index_col = False, skiprows=1, engine='python')\n",
    "        icl = \"\" \n",
    "        for x, row in file[0:3].iterrows():\n",
    "            icl += f\"input: {row.input}\\noutput: {row.output}\\n\\n\"\n",
    "        sub_acc = []\n",
    "        for x, row in file[3:].iterrows():\n",
    "            input = f\"{instruction}\\n\\n{icl}input: {row.input}\\noutput:\"\n",
    "            gpt_out = manifest_openai.run(input, max_tokens=30, stop_token=\"\\n\", temperature=0.0)\n",
    "            row_out = str(row.output).lower().strip()\n",
    "            gpt_out = str(gpt_out).lower().strip()\n",
    "            if row_out == gpt_out: sub_acc.append(1)\n",
    "            else: sub_acc.append(0)\n",
    "        if len(sub_acc) == sum(sub_acc): \n",
    "            accuracy.append(1)\n",
    "        else:\n",
    "            accuracy.append(0)\n",
    "print(f\"Accuracy on benchmark-bing-query-logs: {sum(accuracy) / len(accuracy)}\")"
   ]
  }
 ],
 "metadata": {
  "kernelspec": {
   "display_name": "Python 3 (ipykernel)",
   "language": "python",
   "name": "python3"
  },
  "language_info": {
   "codemirror_mode": {
    "name": "ipython",
    "version": 3
   },
   "file_extension": ".py",
   "mimetype": "text/x-python",
   "name": "python",
   "nbconvert_exporter": "python",
   "pygments_lexer": "ipython3",
   "version": "3.9.13"
  },
  "vscode": {
   "interpreter": {
    "hash": "76ba4237e07cd93d8f808ccd343c91f681ebe6e516ff648f48a3ff1320cb16a4"
   }
  }
 },
 "nbformat": 4,
 "nbformat_minor": 5
}
